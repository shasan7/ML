{
 "cells": [
  {
   "cell_type": "code",
   "execution_count": null,
   "id": "af891be8-9296-403c-8f6d-d4aecb7d57a3",
   "metadata": {},
   "outputs": [],
   "source": [
    "import numpy as np\n",
    "\n",
    "# Define the signum activation function\n",
    "def signum(x):\n",
    "    return np.where(x >= 0, 1, -1)\n",
    "\n",
    "# Perceptron class\n",
    "class Perceptron:\n",
    "    def __init__(self, learning_rate, initial_weights):\n",
    "        self.learning_rate = learning_rate\n",
    "        self.weights = np.array(initial_weights)\n",
    "\n",
    "    def predict(self, inputs):\n",
    "        # Compute the linear combination of inputs and weights\n",
    "        output = np.dot(inputs, self.weights)\n",
    "        # Apply signum activation function\n",
    "        return signum(output)\n",
    "\n",
    "    def train(self, inputs, labels, max_epochs=1000):\n",
    "        epoch = 0\n",
    "        while epoch < max_epochs:\n",
    "            error_vec = np.empty(len(labels))\n",
    "            for i, input_vector in enumerate(inputs):\n",
    "                # Get prediction for i th training pattern\n",
    "                prediction = self.predict(input_vector)\n",
    "                # Calculate error for i th training pattern\n",
    "                error_vec[i] = labels[i] - prediction\n",
    "                # Update weights if there is an error\n",
    "                if error_vec[i] != 0:\n",
    "                    self.weights += self.learning_rate * error_vec[i] * input_vector\n",
    "            mse = np.mean(np.square(error_vec))\n",
    "            # Print status after each epoch\n",
    "            print(f'Epoch {epoch+1}, MSE: {mse}')\n",
    "            # Stop training if MSE for an epoch is zero\n",
    "            if mse == 0:\n",
    "                break\n",
    "            epoch += 1\n",
    "\n",
    "# User-provided values\n",
    "initial_weights = [0.5, -0.02, 0.35]\n",
    "learning_rate = 0.001\n",
    "inputs = np.array([[1, 0, 1], [0, 1, 1], [1, 1, 0], [1, 1, 1]])\n",
    "labels = np.array([1, -1, 1, 1])\n",
    "\n",
    "# Create the perceptron\n",
    "perceptron = Perceptron(learning_rate, initial_weights)\n",
    "\n",
    "# Train the perceptron until the total MSE is zero in any epoch or max epochs is reached\n",
    "perceptron.train(inputs, labels)\n",
    "\n",
    "# Final weights\n",
    "print(\"Final weights:\", perceptron.weights)"
   ]
  }
 ],
 "metadata": {
  "kernelspec": {
   "display_name": "Python 3 (ipykernel)",
   "language": "python",
   "name": "python3"
  },
  "language_info": {
   "codemirror_mode": {
    "name": "ipython",
    "version": 3
   },
   "file_extension": ".py",
   "mimetype": "text/x-python",
   "name": "python",
   "nbconvert_exporter": "python",
   "pygments_lexer": "ipython3",
   "version": "3.12.7"
  }
 },
 "nbformat": 4,
 "nbformat_minor": 5
}
